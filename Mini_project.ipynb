{
  "nbformat": 4,
  "nbformat_minor": 0,
  "metadata": {
    "colab": {
      "name": "Mini_project.ipynb",
      "provenance": [],
      "authorship_tag": "ABX9TyM5e0E5XeXw+di57xyNl/2N",
      "include_colab_link": true
    },
    "kernelspec": {
      "name": "python3",
      "display_name": "Python 3"
    },
    "language_info": {
      "name": "python"
    }
  },
  "cells": [
    {
      "cell_type": "markdown",
      "metadata": {
        "id": "view-in-github",
        "colab_type": "text"
      },
      "source": [
        "<a href=\"https://colab.research.google.com/github/Chamili20/Mini_Project/blob/main/Mini_project.ipynb\" target=\"_parent\"><img src=\"https://colab.research.google.com/assets/colab-badge.svg\" alt=\"Open In Colab\"/></a>"
      ]
    },
    {
      "cell_type": "code",
      "metadata": {
        "colab": {
          "base_uri": "https://localhost:8080/"
        },
        "id": "sr0nUox7ryeV",
        "outputId": "8fb64939-0812-4c29-c510-c33f4039f083"
      },
      "source": [
        "!pip install bing-image-downloader"
      ],
      "execution_count": null,
      "outputs": [
        {
          "output_type": "stream",
          "text": [
            "Collecting bing-image-downloader\n",
            "  Downloading https://files.pythonhosted.org/packages/0d/bf/537a61030b84ae4cd5022d5c7b014fd9bc3ce7c02358919153a6658a61d3/bing_image_downloader-1.0.4-py3-none-any.whl\n",
            "Installing collected packages: bing-image-downloader\n",
            "Successfully installed bing-image-downloader-1.0.4\n"
          ],
          "name": "stdout"
        }
      ]
    },
    {
      "cell_type": "code",
      "metadata": {
        "colab": {
          "base_uri": "https://localhost:8080/"
        },
        "id": "ygKFcnllsRYY",
        "outputId": "3f83f764-222f-4808-bb2d-c16bffb8a7af"
      },
      "source": [
        "!pip install ipython-autotime\n",
        "%load_ext autotime\n"
      ],
      "execution_count": null,
      "outputs": [
        {
          "output_type": "stream",
          "text": [
            "Collecting ipython-autotime\n",
            "  Downloading https://files.pythonhosted.org/packages/b4/c9/b413a24f759641bc27ef98c144b590023c8038dfb8a3f09e713e9dff12c1/ipython_autotime-0.3.1-py2.py3-none-any.whl\n",
            "Requirement already satisfied: ipython in /usr/local/lib/python3.7/dist-packages (from ipython-autotime) (5.5.0)\n",
            "Requirement already satisfied: setuptools>=18.5 in /usr/local/lib/python3.7/dist-packages (from ipython->ipython-autotime) (56.0.0)\n",
            "Requirement already satisfied: pickleshare in /usr/local/lib/python3.7/dist-packages (from ipython->ipython-autotime) (0.7.5)\n",
            "Requirement already satisfied: decorator in /usr/local/lib/python3.7/dist-packages (from ipython->ipython-autotime) (4.4.2)\n",
            "Requirement already satisfied: traitlets>=4.2 in /usr/local/lib/python3.7/dist-packages (from ipython->ipython-autotime) (5.0.5)\n",
            "Requirement already satisfied: simplegeneric>0.8 in /usr/local/lib/python3.7/dist-packages (from ipython->ipython-autotime) (0.8.1)\n",
            "Requirement already satisfied: prompt-toolkit<2.0.0,>=1.0.4 in /usr/local/lib/python3.7/dist-packages (from ipython->ipython-autotime) (1.0.18)\n",
            "Requirement already satisfied: pygments in /usr/local/lib/python3.7/dist-packages (from ipython->ipython-autotime) (2.6.1)\n",
            "Requirement already satisfied: pexpect; sys_platform != \"win32\" in /usr/local/lib/python3.7/dist-packages (from ipython->ipython-autotime) (4.8.0)\n",
            "Requirement already satisfied: ipython-genutils in /usr/local/lib/python3.7/dist-packages (from traitlets>=4.2->ipython->ipython-autotime) (0.2.0)\n",
            "Requirement already satisfied: wcwidth in /usr/local/lib/python3.7/dist-packages (from prompt-toolkit<2.0.0,>=1.0.4->ipython->ipython-autotime) (0.2.5)\n",
            "Requirement already satisfied: six>=1.9.0 in /usr/local/lib/python3.7/dist-packages (from prompt-toolkit<2.0.0,>=1.0.4->ipython->ipython-autotime) (1.15.0)\n",
            "Requirement already satisfied: ptyprocess>=0.5 in /usr/local/lib/python3.7/dist-packages (from pexpect; sys_platform != \"win32\"->ipython->ipython-autotime) (0.7.0)\n",
            "Installing collected packages: ipython-autotime\n",
            "Successfully installed ipython-autotime-0.3.1\n",
            "time: 145 µs (started: 2021-04-30 07:32:09 +00:00)\n"
          ],
          "name": "stdout"
        }
      ]
    },
    {
      "cell_type": "code",
      "metadata": {
        "colab": {
          "base_uri": "https://localhost:8080/"
        },
        "id": "bLuxaBqIsTp3",
        "outputId": "098c3f1b-c05f-493c-d891-a1170e239aef"
      },
      "source": [
        "!mkdir images"
      ],
      "execution_count": null,
      "outputs": [
        {
          "output_type": "stream",
          "text": [
            "time: 112 ms (started: 2021-04-30 07:32:28 +00:00)\n"
          ],
          "name": "stdout"
        }
      ]
    },
    {
      "cell_type": "code",
      "metadata": {
        "colab": {
          "base_uri": "https://localhost:8080/"
        },
        "id": "VdmsaT4asXvw",
        "outputId": "d76ae756-fddc-482f-fbd3-9b9b1d64b984"
      },
      "source": [
        "from bing_image_downloader import downloader\n",
        "downloader.download(\"bikes\",limit=30,output_dir='images',adult_filter_off=True)"
      ],
      "execution_count": null,
      "outputs": [
        {
          "output_type": "stream",
          "text": [
            "\n",
            "\n",
            "[!!]Indexing page: 1\n",
            "\n",
            "[%] Indexed 12 Images on Page 1.\n",
            "\n",
            "===============================================\n",
            "\n",
            "[%] Downloading Image #1 from https://wallpapershome.com/images/wallpapers/mercedes-amg-gt-r-1440x2560-green-goodwood-festival-of-speed-2016-11485.jpg\n",
            "[%] File Downloaded !\n",
            "\n",
            "[%] Downloading Image #2 from https://wallpapershome.com/images/wallpapers/lake-1080x1920-4k-hd-wallpaper-sea-water-waterfall-rocks-mountain-sun-1143.jpg\n",
            "[%] File Downloaded !\n",
            "\n",
            "[%] Downloading Image #3 from https://www.hdwallpapers.in/download/destiny_2_beyond_light_2021_4k_hd_destiny_2_beyond_light-1366x768.jpg\n",
            "[%] File Downloaded !\n",
            "\n",
            "[%] Downloading Image #4 from https://wallpapershome.com/images/wallpapers/paris-1080x1920-france-europe-5k-19437.jpg\n",
            "[%] File Downloaded !\n",
            "\n",
            "[%] Downloading Image #5 from https://wallpapershome.com/images/wallpapers/park-2160x3840-5k-4k-wallpaper-8k-autumn-beautiful-leaves-trees-12400.jpg\n",
            "[%] File Downloaded !\n",
            "\n",
            "[%] Downloading Image #6 from https://wallpapershome.com/images/wallpapers/trips-3840x2160-4k-hd-wallpaper-mountains-sea-clouds-sky-sunse-617.jpg\n",
            "[%] File Downloaded !\n",
            "\n",
            "[%] Downloading Image #7 from https://wallpapershome.com/images/wallpapers/mountains-2560x1440-5k-4k-wallpaper-8k-clouds-sunset-12585.jpg\n",
            "[%] File Downloaded !\n",
            "\n",
            "[%] Downloading Image #8 from https://wallpapershome.com/images/wallpapers/light-1080x1920-forest-tree-4k-15855.jpg\n",
            "[%] File Downloaded !\n",
            "\n",
            "[%] Downloading Image #9 from https://wallpapershome.com/images/wallpapers/mountains-1080x1920-5k-4k-wallpaper-8k-lake-forest-12596.jpg\n",
            "[%] File Downloaded !\n",
            "\n",
            "[%] Downloading Image #10 from https://4kwallpapers.com/images/wallpapers/couple-romantic-kiss-silhouette-sunset-seascape-together-750x1334-1699.jpg\n",
            "[%] File Downloaded !\n",
            "\n",
            "[%] Downloading Image #11 from http://wallpapershome.com/images/wallpapers/iphone-8-wallpaper-1080x1920-4k-15475.jpg\n",
            "[%] File Downloaded !\n",
            "\n",
            "[%] Downloading Image #12 from https://4kwallpapers.com/images/wallpapers/gears-5-marcus-fenix-pc-games-xbox-series-x-s-2021-games-1080x1920-3103.jpg\n",
            "[%] File Downloaded !\n",
            "\n",
            "\n",
            "\n",
            "[!!]Indexing page: 2\n",
            "\n",
            "[%] Indexed 12 Images on Page 2.\n",
            "\n",
            "===============================================\n",
            "\n",
            "[%] Downloading Image #13 from https://wallpapershome.com/images/wallpapers/mercedes-amg-gt-r-1440x2560-green-goodwood-festival-of-speed-2016-11485.jpg\n",
            "[%] File Downloaded !\n",
            "\n",
            "[%] Downloading Image #14 from https://wallpapershome.com/images/wallpapers/light-1080x1920-forest-tree-4k-15855.jpg\n",
            "[%] File Downloaded !\n",
            "\n",
            "[%] Downloading Image #15 from https://www.hdwallpapers.in/download/destiny_2_beyond_light_2021_4k_hd_destiny_2_beyond_light-1366x768.jpg\n",
            "[%] File Downloaded !\n",
            "\n",
            "[%] Downloading Image #16 from https://wallpapershome.com/images/wallpapers/paris-1080x1920-france-europe-5k-19437.jpg\n",
            "[%] File Downloaded !\n",
            "\n",
            "[%] Downloading Image #17 from https://wallpapershome.com/images/wallpapers/lake-1080x1920-4k-hd-wallpaper-sea-water-waterfall-rocks-mountain-sun-1143.jpg\n",
            "[%] File Downloaded !\n",
            "\n",
            "[%] Downloading Image #18 from https://wallpapershome.com/images/wallpapers/trips-3840x2160-4k-hd-wallpaper-mountains-sea-clouds-sky-sunse-617.jpg\n",
            "[%] File Downloaded !\n",
            "\n",
            "[%] Downloading Image #19 from https://wallpapershome.com/images/wallpapers/mountains-2560x1440-5k-4k-wallpaper-8k-clouds-sunset-12585.jpg\n",
            "[%] File Downloaded !\n",
            "\n",
            "[%] Downloading Image #20 from https://4kwallpapers.com/images/wallpapers/gears-5-marcus-fenix-pc-games-xbox-series-x-s-2021-games-1080x1920-3103.jpg\n",
            "[%] File Downloaded !\n",
            "\n",
            "[%] Downloading Image #21 from https://wallpapershome.com/images/wallpapers/mountains-1080x1920-5k-4k-wallpaper-8k-lake-forest-12596.jpg\n",
            "[%] File Downloaded !\n",
            "\n",
            "[%] Downloading Image #22 from https://wallpapershome.com/images/wallpapers/park-2160x3840-5k-4k-wallpaper-8k-autumn-beautiful-leaves-trees-12400.jpg\n",
            "[%] File Downloaded !\n",
            "\n",
            "[%] Downloading Image #23 from http://wallpapershome.com/images/wallpapers/iphone-8-wallpaper-1080x1920-4k-15475.jpg\n",
            "[%] File Downloaded !\n",
            "\n",
            "[%] Downloading Image #24 from https://4kwallpapers.com/images/wallpapers/couple-romantic-kiss-silhouette-sunset-seascape-together-750x1334-1699.jpg\n",
            "[%] File Downloaded !\n",
            "\n",
            "\n",
            "\n",
            "[!!]Indexing page: 3\n",
            "\n",
            "[%] Indexed 11 Images on Page 3.\n",
            "\n",
            "===============================================\n",
            "\n",
            "[%] Downloading Image #25 from https://wallpapershome.com/images/wallpapers/paris-1080x1920-france-europe-5k-19437.jpg\n",
            "[%] File Downloaded !\n",
            "\n",
            "[%] Downloading Image #26 from https://wallpapershome.com/images/wallpapers/trips-3840x2160-4k-hd-wallpaper-mountains-sea-clouds-sky-sunse-617.jpg\n",
            "[%] File Downloaded !\n",
            "\n",
            "[%] Downloading Image #27 from https://wallpapershome.com/images/wallpapers/light-1080x1920-forest-tree-4k-15855.jpg\n",
            "[%] File Downloaded !\n",
            "\n",
            "[%] Downloading Image #28 from https://4kwallpapers.com/images/wallpapers/gears-5-marcus-fenix-pc-games-xbox-series-x-s-2021-games-1080x1920-3103.jpg\n",
            "[%] File Downloaded !\n",
            "\n",
            "[%] Downloading Image #29 from https://wallpapershome.com/images/wallpapers/mountains-1080x1920-5k-4k-wallpaper-8k-lake-forest-12596.jpg\n",
            "[%] File Downloaded !\n",
            "\n",
            "[%] Downloading Image #30 from https://wallpapershome.com/images/wallpapers/park-2160x3840-5k-4k-wallpaper-8k-autumn-beautiful-leaves-trees-12400.jpg\n",
            "[%] File Downloaded !\n",
            "\n",
            "\n",
            "\n",
            "[%] Done. Downloaded 30 images.\n",
            "\n",
            "===============================================\n",
            "\n",
            "time: 33.5 s (started: 2021-04-30 07:32:48 +00:00)\n"
          ],
          "name": "stdout"
        }
      ]
    },
    {
      "cell_type": "code",
      "metadata": {
        "colab": {
          "base_uri": "https://localhost:8080/"
        },
        "id": "jSLK6cFEs7wX",
        "outputId": "0c1be73f-15d0-4480-ac70-02e7eaafbfee"
      },
      "source": [
        "downloader.download(\"cars\",limit=30,output_dir='images',adult_filter_off=True)"
      ],
      "execution_count": null,
      "outputs": [
        {
          "output_type": "stream",
          "text": [
            "\n",
            "\n",
            "[!!]Indexing page: 1\n",
            "\n",
            "[%] Indexed 12 Images on Page 1.\n",
            "\n",
            "===============================================\n",
            "\n",
            "[%] Downloading Image #1 from https://www.design911.co.uk/uploads/Gallery/NEC16.jpg\n",
            "[%] File Downloaded !\n",
            "\n",
            "[%] Downloading Image #2 from https://www.fonewalls.com/wp-content/uploads/2020/04/Moon-Night-Landscape-Wallpaper-300x585.jpg\n",
            "[%] File Downloaded !\n",
            "\n",
            "[%] Downloading Image #3 from https://wallpapershome.com/images/wallpapers/autumn-forest-1440x2560-5k-4k-wallpaper-rocks-trees-plants-waterfall-584.jpg\n",
            "[%] File Downloaded !\n",
            "\n",
            "[%] Downloading Image #4 from https://www.hdwallpapers.in/download/purple_garden_flowers-1600x900.jpg\n",
            "[%] File Downloaded !\n",
            "\n",
            "[%] Downloading Image #5 from https://www.hdwallpapers.in/download/spectrum_of_the_sky-1920x1080.jpg\n",
            "[%] File Downloaded !\n",
            "\n",
            "[%] Downloading Image #6 from https://www.hdwallpapers.in/download/paris_square_jean_xxiii_hd_travel-1366x768.jpg\n",
            "[%] File Downloaded !\n",
            "\n",
            "[%] Downloading Image #7 from https://wallpapershome.com/images/wallpapers/dandelions-1080x1920-5k-4k-wallpaper-macro-flowers-5541.jpg\n",
            "[%] File Downloaded !\n",
            "\n",
            "[%] Downloading Image #8 from http://wallpapershome.com/images/pages/pic_v/14978.jpg\n",
            "[%] File Downloaded !\n",
            "\n",
            "[%] Downloading Image #9 from https://wallpapershome.com/images/wallpapers/minecraft-4k-edition-1440x2560-e3-2017-xbox-one-x-screenshot-13974.jpg\n",
            "[%] File Downloaded !\n",
            "\n",
            "[%] Downloading Image #10 from https://www.hdwallpapers.in/download/sunrise_in_digital_japan-1440x900.jpg\n",
            "[%] File Downloaded !\n",
            "\n",
            "[%] Downloading Image #11 from http://www.photofurl.com/wp-content/uploads/2011/09/animated-android-mobile-phone-wallpaper-640x1024.jpg\n",
            "[%] File Downloaded !\n",
            "\n",
            "[%] Downloading Image #12 from https://flashbak.com/wp-content/uploads/2016/12/Christmas-tree-mom-20.jpg\n",
            "[%] File Downloaded !\n",
            "\n",
            "\n",
            "\n",
            "[!!]Indexing page: 2\n",
            "\n",
            "[%] Indexed 12 Images on Page 2.\n",
            "\n",
            "===============================================\n",
            "\n",
            "[%] Downloading Image #13 from https://www.design911.co.uk/uploads/Gallery/NEC16.jpg\n",
            "[%] File Downloaded !\n",
            "\n",
            "[%] Downloading Image #14 from https://www.fonewalls.com/wp-content/uploads/2020/04/Moon-Night-Landscape-Wallpaper-300x585.jpg\n",
            "[%] File Downloaded !\n",
            "\n",
            "[%] Downloading Image #15 from https://wallpapershome.com/images/wallpapers/autumn-forest-1440x2560-5k-4k-wallpaper-rocks-trees-plants-waterfall-584.jpg\n",
            "[%] File Downloaded !\n",
            "\n",
            "[%] Downloading Image #16 from https://www.hdwallpapers.in/download/purple_garden_flowers-1600x900.jpg\n",
            "[%] File Downloaded !\n",
            "\n",
            "[%] Downloading Image #17 from https://www.hdwallpapers.in/download/spectrum_of_the_sky-1920x1080.jpg\n",
            "[%] File Downloaded !\n",
            "\n",
            "[%] Downloading Image #18 from https://www.hdwallpapers.in/download/paris_square_jean_xxiii_hd_travel-1366x768.jpg\n",
            "[%] File Downloaded !\n",
            "\n",
            "[%] Downloading Image #19 from https://wallpapershome.com/images/wallpapers/dandelions-1080x1920-5k-4k-wallpaper-macro-flowers-5541.jpg\n",
            "[%] File Downloaded !\n",
            "\n",
            "[%] Downloading Image #20 from http://wallpapershome.com/images/pages/pic_v/14978.jpg\n",
            "[%] File Downloaded !\n",
            "\n",
            "[%] Downloading Image #21 from https://wallpapershome.com/images/wallpapers/minecraft-4k-edition-1440x2560-e3-2017-xbox-one-x-screenshot-13974.jpg\n",
            "[%] File Downloaded !\n",
            "\n",
            "[%] Downloading Image #22 from https://www.hdwallpapers.in/download/sunrise_in_digital_japan-1440x900.jpg\n",
            "[%] File Downloaded !\n",
            "\n",
            "[%] Downloading Image #23 from http://www.photofurl.com/wp-content/uploads/2011/09/animated-android-mobile-phone-wallpaper-640x1024.jpg\n",
            "[%] File Downloaded !\n",
            "\n",
            "[%] Downloading Image #24 from https://flashbak.com/wp-content/uploads/2016/12/Christmas-tree-mom-20.jpg\n",
            "[%] File Downloaded !\n",
            "\n",
            "\n",
            "\n",
            "[!!]Indexing page: 3\n",
            "\n",
            "[%] Indexed 11 Images on Page 3.\n",
            "\n",
            "===============================================\n",
            "\n",
            "[%] Downloading Image #25 from https://wallpapershome.com/images/wallpapers/autumn-forest-1440x2560-5k-4k-wallpaper-rocks-trees-plants-waterfall-584.jpg\n",
            "[%] File Downloaded !\n",
            "\n",
            "[%] Downloading Image #26 from https://wallpapershome.com/images/wallpapers/minecraft-4k-edition-1440x2560-e3-2017-xbox-one-x-screenshot-13974.jpg\n",
            "[%] File Downloaded !\n",
            "\n",
            "[%] Downloading Image #27 from https://wallpapershome.com/images/wallpapers/dandelions-1080x1920-5k-4k-wallpaper-macro-flowers-5541.jpg\n",
            "[%] File Downloaded !\n",
            "\n",
            "[%] Downloading Image #28 from http://wallpapershome.com/images/pages/pic_v/14978.jpg\n",
            "[%] File Downloaded !\n",
            "\n",
            "[%] Downloading Image #29 from https://flashbak.com/wp-content/uploads/2016/12/Christmas-tree-mom-20.jpg\n",
            "[%] File Downloaded !\n",
            "\n",
            "[%] Downloading Image #30 from https://www.hdwallpapers.in/download/sunrise_in_digital_japan-1440x900.jpg\n",
            "[%] File Downloaded !\n",
            "\n",
            "\n",
            "\n",
            "[%] Done. Downloaded 30 images.\n",
            "\n",
            "===============================================\n",
            "\n",
            "time: 26.5 s (started: 2021-04-30 07:35:10 +00:00)\n"
          ],
          "name": "stdout"
        }
      ]
    },
    {
      "cell_type": "code",
      "metadata": {
        "colab": {
          "base_uri": "https://localhost:8080/"
        },
        "id": "__9Him_ttAeQ",
        "outputId": "8dacb2e1-aca7-441c-aa84-e9f2cc8614b4"
      },
      "source": [
        "downloader.download(\"scooty\",limit=30,output_dir='images',adult_filter_off=True)"
      ],
      "execution_count": null,
      "outputs": [
        {
          "output_type": "stream",
          "text": [
            "\n",
            "\n",
            "[!!]Indexing page: 1\n",
            "\n",
            "[%] Indexed 12 Images on Page 1.\n",
            "\n",
            "===============================================\n",
            "\n",
            "[%] Downloading Image #1 from https://image3.mouthshut.com/images/imagesp/925104338s.jpg\n",
            "[%] File Downloaded !\n",
            "\n",
            "[%] Downloading Image #2 from http://www.talkingtrendo.com/wp-content/uploads/2019/05/Hero-Pleasure-Plus-Side.jpg\n",
            "[%] File Downloaded !\n",
            "\n",
            "[%] Downloading Image #3 from https://img.xcitefun.net/users/2008/04/1403,xcitefun-teen-diva-2008-06.jpg\n",
            "[%] File Downloaded !\n",
            "\n",
            "[%] Downloading Image #4 from https://upload.wikimedia.org/wikipedia/commons/thumb/5/5c/SOOTY_OWL_%40_SCRUBBY_CREEK_21APRIL15_(2).JPG/1200px-SOOTY_OWL_%40_SCRUBBY_CREEK_21APRIL15_(2).JPG\n",
            "[%] File Downloaded !\n",
            "\n",
            "[%] Downloading Image #5 from http://img.xcitefun.net/users/2008/04/1412,xcitefun-teen-diva-2008-12.jpg\n",
            "[%] File Downloaded !\n",
            "\n",
            "[%] Downloading Image #6 from https://pictures.topspeed.com/IMG/crop/201205/honda-aviator-2_1600x0w.jpg\n",
            "[%] File Downloaded !\n",
            "\n",
            "[%] Downloading Image #7 from http://moto.zombdrive.com/images1600_/benelli-scooter-2.jpg\n",
            "[%] File Downloaded !\n",
            "\n",
            "[%] Downloading Image #8 from https://news.maxabout.com/wp-content/uploads/2018/12/royal-enfield-himalayan-custom-3.jpg\n",
            "[%] File Downloaded !\n",
            "\n",
            "[%] Downloading Image #9 from https://1.bp.blogspot.com/-e-9KxYRG2uo/Tbvw170MrhI/AAAAAAAAAGc/uW6yuLRv3m0/s1600/trisha-1.jpg\n",
            "[%] File Downloaded !\n",
            "\n",
            "[%] Downloading Image #10 from http://3.bp.blogspot.com/-DXD7QpnKBDM/UWpuXn56HPI/AAAAAAAAHhI/XYVH6lh37Zc/s1600/2011100710077M.jpg\n",
            "[%] File Downloaded !\n",
            "\n",
            "[%] Downloading Image #11 from https://www.fuelarc.com/images/model_images/bike/tvs/apache-rtr-200/available_colors/color_1701.jpg\n",
            "[%] File Downloaded !\n",
            "\n",
            "[%] Downloading Image #12 from https://www.iamabiker.com/wp-content/uploads/2020/11/2021-ducati-supersport-950-1.jpg\n",
            "[%] File Downloaded !\n",
            "\n",
            "\n",
            "\n",
            "[!!]Indexing page: 2\n",
            "\n",
            "[%] Indexed 12 Images on Page 2.\n",
            "\n",
            "===============================================\n",
            "\n",
            "[%] Downloading Image #13 from https://image3.mouthshut.com/images/imagesp/925104338s.jpg\n",
            "[%] File Downloaded !\n",
            "\n",
            "[%] Downloading Image #14 from http://www.talkingtrendo.com/wp-content/uploads/2019/05/Hero-Pleasure-Plus-Side.jpg\n",
            "[%] File Downloaded !\n",
            "\n",
            "[%] Downloading Image #15 from https://img.xcitefun.net/users/2008/04/1403,xcitefun-teen-diva-2008-06.jpg\n",
            "[%] File Downloaded !\n",
            "\n",
            "[%] Downloading Image #16 from https://upload.wikimedia.org/wikipedia/commons/thumb/5/5c/SOOTY_OWL_%40_SCRUBBY_CREEK_21APRIL15_(2).JPG/1200px-SOOTY_OWL_%40_SCRUBBY_CREEK_21APRIL15_(2).JPG\n",
            "[%] File Downloaded !\n",
            "\n",
            "[%] Downloading Image #17 from http://img.xcitefun.net/users/2008/04/1412,xcitefun-teen-diva-2008-12.jpg\n",
            "[%] File Downloaded !\n",
            "\n",
            "[%] Downloading Image #18 from https://pictures.topspeed.com/IMG/crop/201205/honda-aviator-2_1600x0w.jpg\n",
            "[%] File Downloaded !\n",
            "\n",
            "[%] Downloading Image #19 from http://moto.zombdrive.com/images1600_/benelli-scooter-2.jpg\n",
            "[%] File Downloaded !\n",
            "\n",
            "[%] Downloading Image #20 from https://news.maxabout.com/wp-content/uploads/2018/12/royal-enfield-himalayan-custom-3.jpg\n",
            "[%] File Downloaded !\n",
            "\n",
            "[%] Downloading Image #21 from https://1.bp.blogspot.com/-e-9KxYRG2uo/Tbvw170MrhI/AAAAAAAAAGc/uW6yuLRv3m0/s1600/trisha-1.jpg\n",
            "[%] File Downloaded !\n",
            "\n",
            "[%] Downloading Image #22 from http://3.bp.blogspot.com/-DXD7QpnKBDM/UWpuXn56HPI/AAAAAAAAHhI/XYVH6lh37Zc/s1600/2011100710077M.jpg\n",
            "[%] File Downloaded !\n",
            "\n",
            "[%] Downloading Image #23 from https://www.fuelarc.com/images/model_images/bike/tvs/apache-rtr-200/available_colors/color_1701.jpg\n",
            "[%] File Downloaded !\n",
            "\n",
            "[%] Downloading Image #24 from https://www.iamabiker.com/wp-content/uploads/2020/11/2021-ducati-supersport-950-1.jpg\n",
            "[%] File Downloaded !\n",
            "\n",
            "\n",
            "\n",
            "[!!]Indexing page: 3\n",
            "\n",
            "[%] Indexed 11 Images on Page 3.\n",
            "\n",
            "===============================================\n",
            "\n",
            "[%] Downloading Image #25 from http://www.talkingtrendo.com/wp-content/uploads/2019/05/Hero-Pleasure-Plus-Side.jpg\n",
            "[%] File Downloaded !\n",
            "\n",
            "[%] Downloading Image #26 from https://img.xcitefun.net/users/2008/04/1403,xcitefun-teen-diva-2008-06.jpg\n",
            "[%] File Downloaded !\n",
            "\n",
            "[%] Downloading Image #27 from https://upload.wikimedia.org/wikipedia/commons/thumb/5/5c/SOOTY_OWL_%40_SCRUBBY_CREEK_21APRIL15_(2).JPG/1200px-SOOTY_OWL_%40_SCRUBBY_CREEK_21APRIL15_(2).JPG\n",
            "[%] File Downloaded !\n",
            "\n",
            "[%] Downloading Image #28 from http://img.xcitefun.net/users/2008/04/1412,xcitefun-teen-diva-2008-12.jpg\n",
            "[%] File Downloaded !\n",
            "\n",
            "[%] Downloading Image #29 from https://pictures.topspeed.com/IMG/crop/201205/honda-aviator-2_1600x0w.jpg\n",
            "[%] File Downloaded !\n",
            "\n",
            "[%] Downloading Image #30 from http://moto.zombdrive.com/images1600_/benelli-scooter-2.jpg\n",
            "[%] File Downloaded !\n",
            "\n",
            "\n",
            "\n",
            "[%] Done. Downloaded 30 images.\n",
            "\n",
            "===============================================\n",
            "\n",
            "time: 5.59 s (started: 2021-04-30 07:35:38 +00:00)\n"
          ],
          "name": "stdout"
        }
      ]
    },
    {
      "cell_type": "code",
      "metadata": {
        "colab": {
          "base_uri": "https://localhost:8080/"
        },
        "id": "uopOqeUbtFza",
        "outputId": "9d01dd77-1341-48dd-8c7d-8b4068079475"
      },
      "source": [
        "import os\n",
        "import matplotlib.pyplot as plt\n",
        "import numpy as np\n",
        "from skimage.io import imread\n",
        "from skimage.transform import resize\n",
        "\n",
        "target = []\n",
        "images = []\n",
        "flat_data = []\n",
        "\n",
        "DATADIR = '/content/images'\n",
        "CATEGORIES = ['cars','scooty','bikes']\n",
        "\n",
        "for category in CATEGORIES:\n",
        "  class_num = CATEGORIES.index(category)\n",
        "  path = os.path.join(DATADIR,category)\n",
        "  for img in os.listdir(path):\n",
        "    img_array = imread(os.path.join(path,img))\n",
        "    #print(img_array.shape)\n",
        "    #plt.imshow(img_array)\n",
        "    img_resized = resize(img_array,(150,150,3))\n",
        "    flat_data.append(img_resized.flatten())\n",
        "    images.append(img_resized)\n",
        "    target.append(class_num)   \n",
        "\n",
        "flat_data = np.array(flat_data)\n",
        "target = np.array(target)\n",
        "images = np.array(images)\n"
      ],
      "execution_count": null,
      "outputs": [
        {
          "output_type": "stream",
          "text": [
            "time: 42 s (started: 2021-04-30 07:35:58 +00:00)\n"
          ],
          "name": "stdout"
        }
      ]
    },
    {
      "cell_type": "code",
      "metadata": {
        "colab": {
          "base_uri": "https://localhost:8080/"
        },
        "id": "QOSEIdRftLsn",
        "outputId": "1d366ff7-0f86-434f-f80d-867b9f8a6341"
      },
      "source": [
        "len(flat_data[0])"
      ],
      "execution_count": null,
      "outputs": [
        {
          "output_type": "execute_result",
          "data": {
            "text/plain": [
              "67500"
            ]
          },
          "metadata": {
            "tags": []
          },
          "execution_count": 8
        },
        {
          "output_type": "stream",
          "text": [
            "time: 4.44 ms (started: 2021-04-30 07:38:20 +00:00)\n"
          ],
          "name": "stdout"
        }
      ]
    },
    {
      "cell_type": "code",
      "metadata": {
        "colab": {
          "base_uri": "https://localhost:8080/"
        },
        "id": "5pKM9HBDtt1n",
        "outputId": "71d0a977-7df1-45d3-a2a0-7a88309ef4c2"
      },
      "source": [
        "150*150*3"
      ],
      "execution_count": null,
      "outputs": [
        {
          "output_type": "execute_result",
          "data": {
            "text/plain": [
              "67500"
            ]
          },
          "metadata": {
            "tags": []
          },
          "execution_count": 9
        },
        {
          "output_type": "stream",
          "text": [
            "time: 7.62 ms (started: 2021-04-30 07:38:29 +00:00)\n"
          ],
          "name": "stdout"
        }
      ]
    },
    {
      "cell_type": "code",
      "metadata": {
        "colab": {
          "base_uri": "https://localhost:8080/"
        },
        "id": "sjoiOAZVtxox",
        "outputId": "53a6943c-9ec1-4abf-f450-d69aef5c5f82"
      },
      "source": [
        "target"
      ],
      "execution_count": null,
      "outputs": [
        {
          "output_type": "execute_result",
          "data": {
            "text/plain": [
              "array([0, 0, 0, 0, 0, 0, 0, 0, 0, 0, 0, 0, 0, 0, 0, 0, 0, 0, 0, 0, 0, 0,\n",
              "       0, 0, 0, 0, 0, 0, 0, 0, 1, 1, 1, 1, 1, 1, 1, 1, 1, 1, 1, 1, 1, 1,\n",
              "       1, 1, 1, 1, 1, 1, 1, 1, 1, 1, 1, 1, 1, 1, 1, 1, 2, 2, 2, 2, 2, 2,\n",
              "       2, 2, 2, 2, 2, 2, 2, 2, 2, 2, 2, 2, 2, 2, 2, 2, 2, 2, 2, 2, 2, 2,\n",
              "       2, 2])"
            ]
          },
          "metadata": {
            "tags": []
          },
          "execution_count": 10
        },
        {
          "output_type": "stream",
          "text": [
            "time: 4.98 ms (started: 2021-04-30 07:38:40 +00:00)\n"
          ],
          "name": "stdout"
        }
      ]
    },
    {
      "cell_type": "code",
      "metadata": {
        "colab": {
          "base_uri": "https://localhost:8080/",
          "height": 300
        },
        "id": "ofbq5MvYtzRn",
        "outputId": "a35dc2fe-e00a-4a93-fd59-cf2f274f048c"
      },
      "source": [
        "unique,count = np.unique(target,return_counts=True)\n",
        "plt.bar(CATEGORIES,count)"
      ],
      "execution_count": null,
      "outputs": [
        {
          "output_type": "execute_result",
          "data": {
            "text/plain": [
              "<BarContainer object of 3 artists>"
            ]
          },
          "metadata": {
            "tags": []
          },
          "execution_count": 11
        },
        {
          "output_type": "display_data",
          "data": {
            "image/png": "[encoded data removed]",
            "text/plain": [
              "<Figure size 432x288 with 1 Axes>"
            ]
          },
          "metadata": {
            "tags": [],
            "needs_background": "light"
          }
        },
        {
          "output_type": "stream",
          "text": [
            "time: 195 ms (started: 2021-04-30 07:38:51 +00:00)\n"
          ],
          "name": "stdout"
        }
      ]
    },
    {
      "cell_type": "code",
      "metadata": {
        "colab": {
          "base_uri": "https://localhost:8080/"
        },
        "id": "_KUwt3e0t1-w",
        "outputId": "c83af7e4-da98-44bb-b36d-70a9d25b2423"
      },
      "source": [
        "#Split data into training and texting\n",
        "from sklearn.model_selection import train_test_split\n",
        "x_train,x_test,y_train,y_test = train_test_split(flat_data,target,\n",
        "                                                 test_size=0.3,random_state=109)"
      ],
      "execution_count": null,
      "outputs": [
        {
          "output_type": "stream",
          "text": [
            "time: 180 ms (started: 2021-04-30 07:39:09 +00:00)\n"
          ],
          "name": "stdout"
        }
      ]
    },
    {
      "cell_type": "code",
      "metadata": {
        "colab": {
          "base_uri": "https://localhost:8080/"
        },
        "id": "9KpNEty2t6Dh",
        "outputId": "3f113c09-ae5c-41c2-a726-882556a18c42"
      },
      "source": [
        "from sklearn.model_selection import GridSearchCV\n",
        "from sklearn import svm\n",
        "param_grid = [\n",
        "              {'C':[1,10,100,1000],'kernel':['linear']},\n",
        "              {'C':[1,10,100,1000],'gamma':[0.001,0.0001],'kernel':['rbf']}\n",
        "]\n",
        "svc = svm.SVC(probability=True)\n",
        "clf = GridSearchCV(svc,param_grid)\n",
        "clf.fit(x_train,y_train)            "
      ],
      "execution_count": null,
      "outputs": [
        {
          "output_type": "execute_result",
          "data": {
            "text/plain": [
              "GridSearchCV(cv=None, error_score=nan,\n",
              "             estimator=SVC(C=1.0, break_ties=False, cache_size=200,\n",
              "                           class_weight=None, coef0=0.0,\n",
              "                           decision_function_shape='ovr', degree=3,\n",
              "                           gamma='scale', kernel='rbf', max_iter=-1,\n",
              "                           probability=True, random_state=None, shrinking=True,\n",
              "                           tol=0.001, verbose=False),\n",
              "             iid='deprecated', n_jobs=None,\n",
              "             param_grid=[{'C': [1, 10, 100, 1000], 'kernel': ['linear']},\n",
              "                         {'C': [1, 10, 100, 1000], 'gamma': [0.001, 0.0001],\n",
              "                          'kernel': ['rbf']}],\n",
              "             pre_dispatch='2*n_jobs', refit=True, return_train_score=False,\n",
              "             scoring=None, verbose=0)"
            ]
          },
          "metadata": {
            "tags": []
          },
          "execution_count": 13
        },
        {
          "output_type": "stream",
          "text": [
            "time: 1min 30s (started: 2021-04-30 07:39:20 +00:00)\n"
          ],
          "name": "stdout"
        }
      ]
    },
    {
      "cell_type": "code",
      "metadata": {
        "colab": {
          "base_uri": "https://localhost:8080/"
        },
        "id": "B2llJd4st_fv",
        "outputId": "702f1bca-5ca1-455e-8c01-89aeecfbcb70"
      },
      "source": [
        "y_pred = clf.predict(x_test)\n",
        "y_pred"
      ],
      "execution_count": null,
      "outputs": [
        {
          "output_type": "execute_result",
          "data": {
            "text/plain": [
              "array([1, 0, 1, 2, 2, 1, 0, 1, 1, 0, 2, 0, 2, 2, 2, 1, 2, 1, 0, 1, 2, 2,\n",
              "       2, 0, 0, 0, 1])"
            ]
          },
          "metadata": {
            "tags": []
          },
          "execution_count": 14
        },
        {
          "output_type": "stream",
          "text": [
            "time: 117 ms (started: 2021-04-30 07:40:57 +00:00)\n"
          ],
          "name": "stdout"
        }
      ]
    },
    {
      "cell_type": "code",
      "metadata": {
        "colab": {
          "base_uri": "https://localhost:8080/"
        },
        "id": "VBZXMuHAuDLZ",
        "outputId": "a4a62545-5536-4b18-8cf5-bfe4130bf5ea"
      },
      "source": [
        "y_test"
      ],
      "execution_count": null,
      "outputs": [
        {
          "output_type": "execute_result",
          "data": {
            "text/plain": [
              "array([1, 0, 1, 2, 2, 1, 0, 1, 1, 0, 1, 0, 1, 2, 2, 1, 2, 1, 0, 1, 2, 2,\n",
              "       2, 0, 0, 0, 1])"
            ]
          },
          "metadata": {
            "tags": []
          },
          "execution_count": 15
        },
        {
          "output_type": "stream",
          "text": [
            "time: 8.38 ms (started: 2021-04-30 07:41:09 +00:00)\n"
          ],
          "name": "stdout"
        }
      ]
    },
    {
      "cell_type": "code",
      "metadata": {
        "colab": {
          "base_uri": "https://localhost:8080/"
        },
        "id": "ReV9FHtuuXUv",
        "outputId": "482f647e-b3be-4d25-ce55-17d16f887697"
      },
      "source": [
        "from sklearn.metrics import accuracy_score,confusion_matrix"
      ],
      "execution_count": null,
      "outputs": [
        {
          "output_type": "stream",
          "text": [
            "time: 822 µs (started: 2021-04-30 07:41:24 +00:00)\n"
          ],
          "name": "stdout"
        }
      ]
    },
    {
      "cell_type": "code",
      "metadata": {
        "colab": {
          "base_uri": "https://localhost:8080/"
        },
        "id": "B3DxiW_vudWH",
        "outputId": "326d5706-4fd9-43cc-e5e1-08051b2425dc"
      },
      "source": [
        "accuracy_score(y_pred,y_test)"
      ],
      "execution_count": null,
      "outputs": [
        {
          "output_type": "execute_result",
          "data": {
            "text/plain": [
              "0.9259259259259259"
            ]
          },
          "metadata": {
            "tags": []
          },
          "execution_count": 17
        },
        {
          "output_type": "stream",
          "text": [
            "time: 4.58 ms (started: 2021-04-30 07:41:39 +00:00)\n"
          ],
          "name": "stdout"
        }
      ]
    },
    {
      "cell_type": "code",
      "metadata": {
        "colab": {
          "base_uri": "https://localhost:8080/"
        },
        "id": "Ysk9CpS3uemP",
        "outputId": "c0b1754c-34bb-4425-af00-8f1a2dd2ec3e"
      },
      "source": [
        "confusion_matrix(y_pred,y_test)"
      ],
      "execution_count": null,
      "outputs": [
        {
          "output_type": "execute_result",
          "data": {
            "text/plain": [
              "array([[8, 0, 0],\n",
              "       [0, 9, 0],\n",
              "       [0, 2, 8]])"
            ]
          },
          "metadata": {
            "tags": []
          },
          "execution_count": 18
        },
        {
          "output_type": "stream",
          "text": [
            "time: 8.7 ms (started: 2021-04-30 07:41:56 +00:00)\n"
          ],
          "name": "stdout"
        }
      ]
    },
    {
      "cell_type": "code",
      "metadata": {
        "colab": {
          "base_uri": "https://localhost:8080/"
        },
        "id": "dDNIfKxWuihv",
        "outputId": "45677a56-80f8-45ce-92a7-1691598bf241"
      },
      "source": [
        "# Save the model using Pickel library\n",
        "import pickle\n",
        "pickle.dump(clf,open('img_model.p','wb'))"
      ],
      "execution_count": null,
      "outputs": [
        {
          "output_type": "stream",
          "text": [
            "time: 26.2 ms (started: 2021-04-30 07:42:26 +00:00)\n"
          ],
          "name": "stdout"
        }
      ]
    },
    {
      "cell_type": "code",
      "metadata": {
        "colab": {
          "base_uri": "https://localhost:8080/"
        },
        "id": "PHtmoLa0up0Q",
        "outputId": "84878b85-7b7d-4c56-f039-e0ad4bae4868"
      },
      "source": [
        "model = pickle.load(open('img_model.p','rb'))"
      ],
      "execution_count": null,
      "outputs": [
        {
          "output_type": "stream",
          "text": [
            "time: 15.5 ms (started: 2021-04-30 07:42:36 +00:00)\n"
          ],
          "name": "stdout"
        }
      ]
    },
    {
      "cell_type": "code",
      "metadata": {
        "colab": {
          "base_uri": "https://localhost:8080/",
          "height": 339
        },
        "id": "ThRTLM8xushX",
        "outputId": "a3a20a7e-29f4-464f-fd90-c039c502c1c1"
      },
      "source": [
        "# Testing a brand new image\n",
        "flat_data = []\n",
        "url = input('Enter your URL')\n",
        "img = imread(url)\n",
        "img_resized = resize(img,(150,150,3))\n",
        "flat_data.append(img_resized.flatten())\n",
        "flat_data = np.array(flat_data)\n",
        "print(img.shape)\n",
        "plt.imshow(img_resized)\n",
        "y_out = model.predict(flat_data)\n",
        "y_out = CATEGORIES[y_out[0]]\n",
        "print(f'PREDICTED OUTPUT: {y_out}')"
      ],
      "execution_count": null,
      "outputs": [
        {
          "output_type": "stream",
          "text": [
            "Enter your URLhttps://media.zigcdn.com/media/model/2020/Jun/kia-seltos-new_270x180.jpg\n",
            "(180, 270, 3)\n",
            "PREDICTED OUTPUT: scooty\n"
          ],
          "name": "stdout"
        },
        {
          "output_type": "display_data",
          "data": {
            "image/png": "[encoded data removed]",
            "text/plain": [
              "<Figure size 432x288 with 1 Axes>"
            ]
          },
          "metadata": {
            "tags": [],
            "needs_background": "light"
          }
        },
        {
          "output_type": "stream",
          "text": [
            "time: 16.2 s (started: 2021-04-30 07:42:48 +00:00)\n"
          ],
          "name": "stdout"
        }
      ]
    },
    {
      "cell_type": "code",
      "metadata": {
        "colab": {
          "base_uri": "https://localhost:8080/",
          "height": 1000
        },
        "id": "YXeM-XpAuvPH",
        "outputId": "0472d437-f535-4a7e-80f5-f76a5e23b4e8"
      },
      "source": [
        "!pip install streamlit\n",
        "\n",
        "!pip install pyngrok\n",
        "from pyngrok import ngrok"
      ],
      "execution_count": null,
      "outputs": [
        {
          "output_type": "stream",
          "text": [
            "Collecting streamlit\n",
            "\u001b[?25l  Downloading https://files.pythonhosted.org/packages/b7/98/4725661dc5719c05ba7e3f9744407ce91e2d982cb6c9601de2bbb62e2dd0/streamlit-0.81.0-py2.py3-none-any.whl (8.2MB)\n",
            "\u001b[K     |████████████████████████████████| 8.2MB 12.7MB/s \n",
            "\u001b[?25hCollecting gitpython\n",
            "\u001b[?25l  Downloading https://files.pythonhosted.org/packages/a6/99/98019716955ba243657daedd1de8f3a88ca1f5b75057c38e959db22fb87b/GitPython-3.1.14-py3-none-any.whl (159kB)\n",
            "\u001b[K     |████████████████████████████████| 163kB 45.7MB/s \n",
            "\u001b[?25hRequirement already satisfied: click>=7.0 in /usr/local/lib/python3.7/dist-packages (from streamlit) (7.1.2)\n",
            "Requirement already satisfied: requests in /usr/local/lib/python3.7/dist-packages (from streamlit) (2.23.0)\n",
            "Collecting blinker\n",
            "\u001b[?25l  Downloading https://files.pythonhosted.org/packages/1b/51/e2a9f3b757eb802f61dc1f2b09c8c99f6eb01cf06416c0671253536517b6/blinker-1.4.tar.gz (111kB)\n",
            "\u001b[K     |████████████████████████████████| 112kB 47.0MB/s \n",
            "\u001b[?25hRequirement already satisfied: numpy in /usr/local/lib/python3.7/dist-packages (from streamlit) (1.19.5)\n",
            "Requirement already satisfied: python-dateutil in /usr/local/lib/python3.7/dist-packages (from streamlit) (2.8.1)\n",
            "Collecting pydeck>=0.1.dev5\n",
            "\u001b[?25l  Downloading https://files.pythonhosted.org/packages/d6/bc/f0e44828e4290367c869591d50d3671a4d0ee94926da6cb734b7b200308c/pydeck-0.6.2-py2.py3-none-any.whl (4.2MB)\n",
            "\u001b[K     |████████████████████████████████| 4.2MB 39.3MB/s \n",
            "\u001b[?25hRequirement already satisfied: altair>=3.2.0 in /usr/local/lib/python3.7/dist-packages (from streamlit) (4.1.0)\n",
            "Requirement already satisfied: cachetools>=4.0 in /usr/local/lib/python3.7/dist-packages (from streamlit) (4.2.1)\n",
            "Requirement already satisfied: tzlocal in /usr/local/lib/python3.7/dist-packages (from streamlit) (1.5.1)\n",
            "Requirement already satisfied: tornado>=5.0 in /usr/local/lib/python3.7/dist-packages (from streamlit) (5.1.1)\n",
            "Requirement already satisfied: astor in /usr/local/lib/python3.7/dist-packages (from streamlit) (0.8.1)\n",
            "Collecting watchdog; platform_system != \"Darwin\"\n",
            "\u001b[?25l  Downloading https://files.pythonhosted.org/packages/d2/b2/b4ebe23174fd00ec94ac3f58ebf85f1090c49858feab1ca62ed7ea4d2f2f/watchdog-2.0.3-py3-none-manylinux2014_x86_64.whl (74kB)\n",
            "\u001b[K     |████████████████████████████████| 81kB 9.1MB/s \n",
            "\u001b[?25hRequirement already satisfied: protobuf!=3.11,>=3.6.0 in /usr/local/lib/python3.7/dist-packages (from streamlit) (3.12.4)\n",
            "Requirement already satisfied: toml in /usr/local/lib/python3.7/dist-packages (from streamlit) (0.10.2)\n",
            "Requirement already satisfied: packaging in /usr/local/lib/python3.7/dist-packages (from streamlit) (20.9)\n",
            "Requirement already satisfied: pandas>=0.21.0 in /usr/local/lib/python3.7/dist-packages (from streamlit) (1.1.5)\n",
            "Requirement already satisfied: pyarrow; python_version < \"3.9\" in /usr/local/lib/python3.7/dist-packages (from streamlit) (3.0.0)\n",
            "Requirement already satisfied: pillow>=6.2.0 in /usr/local/lib/python3.7/dist-packages (from streamlit) (7.1.2)\n",
            "Collecting validators\n",
            "  Downloading https://files.pythonhosted.org/packages/db/2f/7fed3ee94ad665ad2c1de87f858f10a7785251ff75b4fd47987888d07ef1/validators-0.18.2-py3-none-any.whl\n",
            "Collecting base58\n",
            "  Downloading https://files.pythonhosted.org/packages/b8/a1/d9f565e9910c09fd325dc638765e8843a19fa696275c16cc08cf3b0a3c25/base58-2.1.0-py3-none-any.whl\n",
            "Collecting gitdb<5,>=4.0.1\n",
            "\u001b[?25l  Downloading https://files.pythonhosted.org/packages/ea/e8/f414d1a4f0bbc668ed441f74f44c116d9816833a48bf81d22b697090dba8/gitdb-4.0.7-py3-none-any.whl (63kB)\n",
            "\u001b[K     |████████████████████████████████| 71kB 8.6MB/s \n",
            "\u001b[?25hRequirement already satisfied: chardet<4,>=3.0.2 in /usr/local/lib/python3.7/dist-packages (from requests->streamlit) (3.0.4)\n",
            "Requirement already satisfied: idna<3,>=2.5 in /usr/local/lib/python3.7/dist-packages (from requests->streamlit) (2.10)\n",
            "Requirement already satisfied: certifi>=2017.4.17 in /usr/local/lib/python3.7/dist-packages (from requests->streamlit) (2020.12.5)\n",
            "Requirement already satisfied: urllib3!=1.25.0,!=1.25.1,<1.26,>=1.21.1 in /usr/local/lib/python3.7/dist-packages (from requests->streamlit) (1.24.3)\n",
            "Requirement already satisfied: six>=1.5 in /usr/local/lib/python3.7/dist-packages (from python-dateutil->streamlit) (1.15.0)\n",
            "Requirement already satisfied: ipywidgets>=7.0.0 in /usr/local/lib/python3.7/dist-packages (from pydeck>=0.1.dev5->streamlit) (7.6.3)\n",
            "Collecting ipykernel>=5.1.2; python_version >= \"3.4\"\n",
            "\u001b[?25l  Downloading https://files.pythonhosted.org/packages/3a/7d/9f8ac1b1b76f2f1538b5650f0b5636bae082724b1e06939a3a9d38e1380e/ipykernel-5.5.3-py3-none-any.whl (120kB)\n",
            "\u001b[K     |████████████████████████████████| 122kB 58.1MB/s \n",
            "\u001b[?25hRequirement already satisfied: traitlets>=4.3.2 in /usr/local/lib/python3.7/dist-packages (from pydeck>=0.1.dev5->streamlit) (5.0.5)\n",
            "Requirement already satisfied: jinja2>=2.10.1 in /usr/local/lib/python3.7/dist-packages (from pydeck>=0.1.dev5->streamlit) (2.11.3)\n",
            "Requirement already satisfied: entrypoints in /usr/local/lib/python3.7/dist-packages (from altair>=3.2.0->streamlit) (0.3)\n",
            "Requirement already satisfied: toolz in /usr/local/lib/python3.7/dist-packages (from altair>=3.2.0->streamlit) (0.11.1)\n",
            "Requirement already satisfied: jsonschema in /usr/local/lib/python3.7/dist-packages (from altair>=3.2.0->streamlit) (2.6.0)\n",
            "Requirement already satisfied: pytz in /usr/local/lib/python3.7/dist-packages (from tzlocal->streamlit) (2018.9)\n",
            "Requirement already satisfied: setuptools in /usr/local/lib/python3.7/dist-packages (from protobuf!=3.11,>=3.6.0->streamlit) (56.0.0)\n",
            "Requirement already satisfied: pyparsing>=2.0.2 in /usr/local/lib/python3.7/dist-packages (from packaging->streamlit) (2.4.7)\n",
            "Requirement already satisfied: decorator>=3.4.0 in /usr/local/lib/python3.7/dist-packages (from validators->streamlit) (4.4.2)\n",
            "Collecting smmap<5,>=3.0.1\n",
            "  Downloading https://files.pythonhosted.org/packages/68/ee/d540eb5e5996eb81c26ceffac6ee49041d473bc5125f2aa995cf51ec1cf1/smmap-4.0.0-py2.py3-none-any.whl\n",
            "Requirement already satisfied: widgetsnbextension~=3.5.0 in /usr/local/lib/python3.7/dist-packages (from ipywidgets>=7.0.0->pydeck>=0.1.dev5->streamlit) (3.5.1)\n",
            "Requirement already satisfied: jupyterlab-widgets>=1.0.0; python_version >= \"3.6\" in /usr/local/lib/python3.7/dist-packages (from ipywidgets>=7.0.0->pydeck>=0.1.dev5->streamlit) (1.0.0)\n",
            "Requirement already satisfied: nbformat>=4.2.0 in /usr/local/lib/python3.7/dist-packages (from ipywidgets>=7.0.0->pydeck>=0.1.dev5->streamlit) (5.1.3)\n",
            "Requirement already satisfied: ipython>=4.0.0; python_version >= \"3.3\" in /usr/local/lib/python3.7/dist-packages (from ipywidgets>=7.0.0->pydeck>=0.1.dev5->streamlit) (5.5.0)\n",
            "Requirement already satisfied: jupyter-client in /usr/local/lib/python3.7/dist-packages (from ipykernel>=5.1.2; python_version >= \"3.4\"->pydeck>=0.1.dev5->streamlit) (5.3.5)\n",
            "Requirement already satisfied: ipython-genutils in /usr/local/lib/python3.7/dist-packages (from traitlets>=4.3.2->pydeck>=0.1.dev5->streamlit) (0.2.0)\n",
            "Requirement already satisfied: MarkupSafe>=0.23 in /usr/local/lib/python3.7/dist-packages (from jinja2>=2.10.1->pydeck>=0.1.dev5->streamlit) (1.1.1)\n",
            "Requirement already satisfied: notebook>=4.4.1 in /usr/local/lib/python3.7/dist-packages (from widgetsnbextension~=3.5.0->ipywidgets>=7.0.0->pydeck>=0.1.dev5->streamlit) (5.3.1)\n",
            "Requirement already satisfied: jupyter-core in /usr/local/lib/python3.7/dist-packages (from nbformat>=4.2.0->ipywidgets>=7.0.0->pydeck>=0.1.dev5->streamlit) (4.7.1)\n",
            "Requirement already satisfied: prompt-toolkit<2.0.0,>=1.0.4 in /usr/local/lib/python3.7/dist-packages (from ipython>=4.0.0; python_version >= \"3.3\"->ipywidgets>=7.0.0->pydeck>=0.1.dev5->streamlit) (1.0.18)\n",
            "Requirement already satisfied: pickleshare in /usr/local/lib/python3.7/dist-packages (from ipython>=4.0.0; python_version >= \"3.3\"->ipywidgets>=7.0.0->pydeck>=0.1.dev5->streamlit) (0.7.5)\n",
            "Requirement already satisfied: pygments in /usr/local/lib/python3.7/dist-packages (from ipython>=4.0.0; python_version >= \"3.3\"->ipywidgets>=7.0.0->pydeck>=0.1.dev5->streamlit) (2.6.1)\n",
            "Requirement already satisfied: simplegeneric>0.8 in /usr/local/lib/python3.7/dist-packages (from ipython>=4.0.0; python_version >= \"3.3\"->ipywidgets>=7.0.0->pydeck>=0.1.dev5->streamlit) (0.8.1)\n",
            "Requirement already satisfied: pexpect; sys_platform != \"win32\" in /usr/local/lib/python3.7/dist-packages (from ipython>=4.0.0; python_version >= \"3.3\"->ipywidgets>=7.0.0->pydeck>=0.1.dev5->streamlit) (4.8.0)\n",
            "Requirement already satisfied: pyzmq>=13 in /usr/local/lib/python3.7/dist-packages (from jupyter-client->ipykernel>=5.1.2; python_version >= \"3.4\"->pydeck>=0.1.dev5->streamlit) (22.0.3)\n",
            "Requirement already satisfied: Send2Trash in /usr/local/lib/python3.7/dist-packages (from notebook>=4.4.1->widgetsnbextension~=3.5.0->ipywidgets>=7.0.0->pydeck>=0.1.dev5->streamlit) (1.5.0)\n",
            "Requirement already satisfied: nbconvert in /usr/local/lib/python3.7/dist-packages (from notebook>=4.4.1->widgetsnbextension~=3.5.0->ipywidgets>=7.0.0->pydeck>=0.1.dev5->streamlit) (5.6.1)\n",
            "Requirement already satisfied: terminado>=0.8.1 in /usr/local/lib/python3.7/dist-packages (from notebook>=4.4.1->widgetsnbextension~=3.5.0->ipywidgets>=7.0.0->pydeck>=0.1.dev5->streamlit) (0.9.4)\n",
            "Requirement already satisfied: wcwidth in /usr/local/lib/python3.7/dist-packages (from prompt-toolkit<2.0.0,>=1.0.4->ipython>=4.0.0; python_version >= \"3.3\"->ipywidgets>=7.0.0->pydeck>=0.1.dev5->streamlit) (0.2.5)\n",
            "Requirement already satisfied: ptyprocess>=0.5 in /usr/local/lib/python3.7/dist-packages (from pexpect; sys_platform != \"win32\"->ipython>=4.0.0; python_version >= \"3.3\"->ipywidgets>=7.0.0->pydeck>=0.1.dev5->streamlit) (0.7.0)\n",
            "Requirement already satisfied: mistune<2,>=0.8.1 in /usr/local/lib/python3.7/dist-packages (from nbconvert->notebook>=4.4.1->widgetsnbextension~=3.5.0->ipywidgets>=7.0.0->pydeck>=0.1.dev5->streamlit) (0.8.4)\n",
            "Requirement already satisfied: bleach in /usr/local/lib/python3.7/dist-packages (from nbconvert->notebook>=4.4.1->widgetsnbextension~=3.5.0->ipywidgets>=7.0.0->pydeck>=0.1.dev5->streamlit) (3.3.0)\n",
            "Requirement already satisfied: pandocfilters>=1.4.1 in /usr/local/lib/python3.7/dist-packages (from nbconvert->notebook>=4.4.1->widgetsnbextension~=3.5.0->ipywidgets>=7.0.0->pydeck>=0.1.dev5->streamlit) (1.4.3)\n",
            "Requirement already satisfied: defusedxml in /usr/local/lib/python3.7/dist-packages (from nbconvert->notebook>=4.4.1->widgetsnbextension~=3.5.0->ipywidgets>=7.0.0->pydeck>=0.1.dev5->streamlit) (0.7.1)\n",
            "Requirement already satisfied: testpath in /usr/local/lib/python3.7/dist-packages (from nbconvert->notebook>=4.4.1->widgetsnbextension~=3.5.0->ipywidgets>=7.0.0->pydeck>=0.1.dev5->streamlit) (0.4.4)\n",
            "Requirement already satisfied: webencodings in /usr/local/lib/python3.7/dist-packages (from bleach->nbconvert->notebook>=4.4.1->widgetsnbextension~=3.5.0->ipywidgets>=7.0.0->pydeck>=0.1.dev5->streamlit) (0.5.1)\n",
            "Building wheels for collected packages: blinker\n",
            "  Building wheel for blinker (setup.py) ... \u001b[?25l\u001b[?25hdone\n",
            "  Created wheel for blinker: filename=blinker-1.4-cp37-none-any.whl size=13448 sha256=d9d94d8db7e9c45bf9f5f4f882914bea318776be7cae996a2c33387d952326ba\n",
            "  Stored in directory: /root/.cache/pip/wheels/92/a0/00/8690a57883956a301d91cf4ec999cc0b258b01e3f548f86e89\n",
            "Successfully built blinker\n",
            "\u001b[31mERROR: google-colab 1.0.0 has requirement ipykernel~=4.10, but you'll have ipykernel 5.5.3 which is incompatible.\u001b[0m\n",
            "Installing collected packages: smmap, gitdb, gitpython, blinker, ipykernel, pydeck, watchdog, validators, base58, streamlit\n",
            "  Found existing installation: ipykernel 4.10.1\n",
            "    Uninstalling ipykernel-4.10.1:\n",
            "      Successfully uninstalled ipykernel-4.10.1\n",
            "Successfully installed base58-2.1.0 blinker-1.4 gitdb-4.0.7 gitpython-3.1.14 ipykernel-5.5.3 pydeck-0.6.2 smmap-4.0.0 streamlit-0.81.0 validators-0.18.2 watchdog-2.0.3\n"
          ],
          "name": "stdout"
        },
        {
          "output_type": "display_data",
          "data": {
            "application/vnd.colab-display-data+json": {
              "pip_warning": {
                "packages": [
                  "ipykernel"
                ]
              }
            }
          },
          "metadata": {
            "tags": []
          }
        },
        {
          "output_type": "stream",
          "text": [
            "Collecting pyngrok\n",
            "\u001b[?25l  Downloading https://files.pythonhosted.org/packages/6b/4e/a2fe095bbe17cf26424c4abcd22a0490e22d01cc628f25af5e220ddbf6f0/pyngrok-5.0.5.tar.gz (745kB)\n",
            "\r\u001b[K     |▍                               | 10kB 16.3MB/s eta 0:00:01\r\u001b[K     |▉                               | 20kB 21.4MB/s eta 0:00:01\r\u001b[K     |█▎                              | 30kB 25.9MB/s eta 0:00:01\r\u001b[K     |█▊                              | 40kB 23.5MB/s eta 0:00:01\r\u001b[K     |██▏                             | 51kB 24.5MB/s eta 0:00:01\r\u001b[K     |██▋                             | 61kB 17.1MB/s eta 0:00:01\r\u001b[K     |███                             | 71kB 17.5MB/s eta 0:00:01\r\u001b[K     |███▌                            | 81kB 14.6MB/s eta 0:00:01\r\u001b[K     |████                            | 92kB 14.4MB/s eta 0:00:01\r\u001b[K     |████▍                           | 102kB 15.4MB/s eta 0:00:01\r\u001b[K     |████▉                           | 112kB 15.4MB/s eta 0:00:01\r\u001b[K     |█████▎                          | 122kB 15.4MB/s eta 0:00:01\r\u001b[K     |█████▊                          | 133kB 15.4MB/s eta 0:00:01\r\u001b[K     |██████▏                         | 143kB 15.4MB/s eta 0:00:01\r\u001b[K     |██████▋                         | 153kB 15.4MB/s eta 0:00:01\r\u001b[K     |███████                         | 163kB 15.4MB/s eta 0:00:01\r\u001b[K     |███████▌                        | 174kB 15.4MB/s eta 0:00:01\r\u001b[K     |████████                        | 184kB 15.4MB/s eta 0:00:01\r\u001b[K     |████████▍                       | 194kB 15.4MB/s eta 0:00:01\r\u001b[K     |████████▉                       | 204kB 15.4MB/s eta 0:00:01\r\u001b[K     |█████████▎                      | 215kB 15.4MB/s eta 0:00:01\r\u001b[K     |█████████▊                      | 225kB 15.4MB/s eta 0:00:01\r\u001b[K     |██████████▏                     | 235kB 15.4MB/s eta 0:00:01\r\u001b[K     |██████████▌                     | 245kB 15.4MB/s eta 0:00:01\r\u001b[K     |███████████                     | 256kB 15.4MB/s eta 0:00:01\r\u001b[K     |███████████▍                    | 266kB 15.4MB/s eta 0:00:01\r\u001b[K     |███████████▉                    | 276kB 15.4MB/s eta 0:00:01\r\u001b[K     |████████████▎                   | 286kB 15.4MB/s eta 0:00:01\r\u001b[K     |████████████▊                   | 296kB 15.4MB/s eta 0:00:01\r\u001b[K     |█████████████▏                  | 307kB 15.4MB/s eta 0:00:01\r\u001b[K     |█████████████▋                  | 317kB 15.4MB/s eta 0:00:01\r\u001b[K     |██████████████                  | 327kB 15.4MB/s eta 0:00:01\r\u001b[K     |██████████████▌                 | 337kB 15.4MB/s eta 0:00:01\r\u001b[K     |███████████████                 | 348kB 15.4MB/s eta 0:00:01\r\u001b[K     |███████████████▍                | 358kB 15.4MB/s eta 0:00:01\r\u001b[K     |███████████████▉                | 368kB 15.4MB/s eta 0:00:01\r\u001b[K     |████████████████▎               | 378kB 15.4MB/s eta 0:00:01\r\u001b[K     |████████████████▊               | 389kB 15.4MB/s eta 0:00:01\r\u001b[K     |█████████████████▏              | 399kB 15.4MB/s eta 0:00:01\r\u001b[K     |█████████████████▋              | 409kB 15.4MB/s eta 0:00:01\r\u001b[K     |██████████████████              | 419kB 15.4MB/s eta 0:00:01\r\u001b[K     |██████████████████▌             | 430kB 15.4MB/s eta 0:00:01\r\u001b[K     |███████████████████             | 440kB 15.4MB/s eta 0:00:01\r\u001b[K     |███████████████████▍            | 450kB 15.4MB/s eta 0:00:01\r\u001b[K     |███████████████████▉            | 460kB 15.4MB/s eta 0:00:01\r\u001b[K     |████████████████████▎           | 471kB 15.4MB/s eta 0:00:01\r\u001b[K     |████████████████████▊           | 481kB 15.4MB/s eta 0:00:01\r\u001b[K     |█████████████████████           | 491kB 15.4MB/s eta 0:00:01\r\u001b[K     |█████████████████████▌          | 501kB 15.4MB/s eta 0:00:01\r\u001b[K     |██████████████████████          | 512kB 15.4MB/s eta 0:00:01\r\u001b[K     |██████████████████████▍         | 522kB 15.4MB/s eta 0:00:01\r\u001b[K     |██████████████████████▉         | 532kB 15.4MB/s eta 0:00:01\r\u001b[K     |███████████████████████▎        | 542kB 15.4MB/s eta 0:00:01\r\u001b[K     |███████████████████████▊        | 552kB 15.4MB/s eta 0:00:01\r\u001b[K     |████████████████████████▏       | 563kB 15.4MB/s eta 0:00:01\r\u001b[K     |████████████████████████▋       | 573kB 15.4MB/s eta 0:00:01\r\u001b[K     |█████████████████████████       | 583kB 15.4MB/s eta 0:00:01\r\u001b[K     |█████████████████████████▌      | 593kB 15.4MB/s eta 0:00:01\r\u001b[K     |██████████████████████████      | 604kB 15.4MB/s eta 0:00:01\r\u001b[K     |██████████████████████████▍     | 614kB 15.4MB/s eta 0:00:01\r\u001b[K     |██████████████████████████▉     | 624kB 15.4MB/s eta 0:00:01\r\u001b[K     |███████████████████████████▎    | 634kB 15.4MB/s eta 0:00:01\r\u001b[K     |███████████████████████████▊    | 645kB 15.4MB/s eta 0:00:01\r\u001b[K     |████████████████████████████▏   | 655kB 15.4MB/s eta 0:00:01\r\u001b[K     |████████████████████████████▋   | 665kB 15.4MB/s eta 0:00:01\r\u001b[K     |█████████████████████████████   | 675kB 15.4MB/s eta 0:00:01\r\u001b[K     |█████████████████████████████▌  | 686kB 15.4MB/s eta 0:00:01\r\u001b[K     |██████████████████████████████  | 696kB 15.4MB/s eta 0:00:01\r\u001b[K     |██████████████████████████████▍ | 706kB 15.4MB/s eta 0:00:01\r\u001b[K     |██████████████████████████████▉ | 716kB 15.4MB/s eta 0:00:01\r\u001b[K     |███████████████████████████████▏| 727kB 15.4MB/s eta 0:00:01\r\u001b[K     |███████████████████████████████▋| 737kB 15.4MB/s eta 0:00:01\r\u001b[K     |████████████████████████████████| 747kB 15.4MB/s \n",
            "\u001b[?25hRequirement already satisfied: PyYAML in /usr/local/lib/python3.7/dist-packages (from pyngrok) (3.13)\n",
            "Building wheels for collected packages: pyngrok\n",
            "  Building wheel for pyngrok (setup.py) ... \u001b[?25l\u001b[?25hdone\n",
            "  Created wheel for pyngrok: filename=pyngrok-5.0.5-cp37-none-any.whl size=19246 sha256=cf593215f9173f8ed5a5830ca26dfe90c8ef09fbb79407693d368293c4412fcc\n",
            "  Stored in directory: /root/.cache/pip/wheels/0c/13/64/5ebbcc22eaf53fdf5766b397c1fb17c83f5775fdccf0ea1b88\n",
            "Successfully built pyngrok\n",
            "Installing collected packages: pyngrok\n",
            "Successfully installed pyngrok-5.0.5\n",
            "time: 17.4 s (started: 2021-04-30 07:43:20 +00:00)\n"
          ],
          "name": "stdout"
        }
      ]
    },
    {
      "cell_type": "code",
      "metadata": {
        "colab": {
          "base_uri": "https://localhost:8080/"
        },
        "id": "ePEX1_cIu3ay",
        "outputId": "81766f4e-4e24-4c66-b5a2-4760a111e854"
      },
      "source": [
        "%%writefile app.py\n",
        "import streamlit as st\n",
        "import numpy as np\n",
        "from skimage.io import imread\n",
        "from skimage.transform import resize\n",
        "st.title('Image Classifier Using Machine Learning')\n",
        "st.text('Upload the Image')\n",
        "\n",
        "model = pickle.load(open('img_model.p','rb'))\n",
        "\n",
        "uploaded_file = st.file_uploarder(\"Choose an image...\", type=\"jpg\")\n",
        "if uploaded_file is not None:\n",
        "  img = Image.open(uploaded_file)\n",
        "  t.image(img,caption='Uploaded Image')\n",
        "\n",
        "if st.button('PREDICT'):\n",
        "  CATEGORIES = ['cars','scooty','bikes']\n",
        "  st.write('Result...')\n",
        "  flat_data=[]\n",
        "  img = np.array(img)\n",
        "  img_resized = resize(img,(150,150,3))\n",
        "  flat_data.append(img_resized.flatten())\n",
        "  flat_data = np.array(flat_data)\n",
        "  print(img.shape)\n",
        "  plt.imshow(img_resized)\n",
        "  y_out = model.predict(flat_data)\n",
        "  y_out = CATEGORIES[y_out[0]]\n",
        "  st.title(f'PREDICTED OUTPUT: {y_out}')\n",
        "\n"
      ],
      "execution_count": null,
      "outputs": [
        {
          "output_type": "stream",
          "text": [
            "Writing app.py\n",
            "time: 4.35 ms (started: 2021-04-30 07:43:39 +00:00)\n"
          ],
          "name": "stdout"
        }
      ]
    },
    {
      "cell_type": "code",
      "metadata": {
        "id": "-MkewJvfu-K4",
        "colab": {
          "base_uri": "https://localhost:8080/"
        },
        "outputId": "d46b5c18-0587-4054-95cd-c9968457b1e9"
      },
      "source": [
        "!nohup streamlit run app.py &\n",
        "\n",
        "url = ngrok.connect(port='8501')\n",
        "url"
      ],
      "execution_count": null,
      "outputs": [
        {
          "output_type": "stream",
          "text": [
            "nohup: appending output to 'nohup.out'\n"
          ],
          "name": "stdout"
        },
        {
          "output_type": "execute_result",
          "data": {
            "text/plain": [
              "<NgrokTunnel: \"http://9c69d828ba2a.ngrok.io\" -> \"http://localhost:80\">"
            ]
          },
          "metadata": {
            "tags": []
          },
          "execution_count": 24
        },
        {
          "output_type": "stream",
          "text": [
            "time: 1.22 s (started: 2021-04-30 07:43:53 +00:00)\n"
          ],
          "name": "stdout"
        }
      ]
    }
  ]
}